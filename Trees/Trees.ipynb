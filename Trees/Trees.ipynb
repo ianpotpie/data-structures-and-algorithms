{
 "cells": [
  {
   "cell_type": "markdown",
   "id": "50ce4aca",
   "metadata": {},
   "source": [
    "# Trees\n",
    "\n",
    "> \"In computer science, a tree is a widely used abstract data type that simulates a hierarchical tree structure, with a root value and subtrees of children with a parent node, represented as a set of linked nodes. A tree data structure can be defined recursively as a collection of nodes, where each node is a data structure consisting of a value and a list of references to nodes. The start of the tree is the \"root node\" and the reference nodes are the \"children\". No reference is duplicated and none points to the root.\" - [Wikipedia](https://en.m.wikipedia.org/wiki/Tree_(data_structure))\n",
    "\n",
    "Rules:\n",
    " 1. A tree has a single root node.\n",
    " 3. All nodes in the tree must be connected.\n",
    " 4. Each node has a single parent.\n",
    " 5. A tree cannot have any cycles.\n",
    "\n",
    "## Tree Vocabulary\n",
    "**Node** - a node is an object that contains a value and a list of references/pointers/edges/links to other nodes\n",
    "\n",
    "**Parent** - node A is a parent of node B if node A has a pointer to node B\n",
    "\n",
    "**Child** - node B is a child of node A if node A has a pointer to node B\n",
    "\n",
    "**Neighbor** - the parent or child of a node\n",
    "\n",
    "**Ancestor** - a node reachable by repeated proceeding from child to parent\n",
    "\n",
    "**Descendant** - a node reachable by repeated proceeding from parent to child\n",
    "\n",
    "**Subtree** - a subtree of a tree *T* consists of a node in *T* and all of its descendants in *T*. If the node is not the root of *T* then it is called a proper subtree of *T*\n",
    "\n",
    "**Degree** - for a given node, its number of children (a leaf is degree zero)\n",
    "\n",
    "**Degree of a tree** - the maximum degree of a node in the tree\n",
    "\n",
    "**Distance** - the number of edges along the shortest path between two nodes\n",
    "\n",
    "**Height** - the height of a node is the length of the longest downward path to a leaf from that node. The height of the root node is the height of the tree.\n",
    "\n",
    "**Depth** - the depth of a node is the length of the path to its root (the *root path*)\n",
    "\n",
    "**Level** - the number of edges along the unique path between it and the root node\n",
    "\n",
    "**Width** - the number of nodes in a level\n",
    "\n",
    "**Breadth** - the number of leaves in a tree\n",
    "\n",
    "**Forest** - a nonempty set of disjoint trees\n",
    "\n",
    "**Ordered Tree** - a tree in which an ordering is specified for children of each node\n",
    "\n",
    "**Size of a tree** - the number of nodes in the tree"
   ]
  },
  {
   "cell_type": "code",
   "execution_count": 3,
   "id": "c1541961",
   "metadata": {},
   "outputs": [],
   "source": [
    "class TreeNode:\n",
    "    def __init__(value, children):\n",
    "        self.value = value\n",
    "        self.children = children\n",
    "\n",
    "class Tree:\n",
    "    def __init__(root):\n",
    "        self.root = root"
   ]
  },
  {
   "cell_type": "markdown",
   "id": "99db22c8",
   "metadata": {},
   "source": [
    "## String Representation\n",
    "\n",
    "One simple way to represent a tree is through bracket notation. Each node is represented as a set of parentheses in which the value of the node is comma separated from the list of child nodes. For instance, tree:\n",
    "```\n",
    "    5\n",
    "   / \\\n",
    "  3   6\n",
    " / \\   \\\n",
    "2   4   7\n",
    "```\n",
    "would be represented by:\n",
    "```\n",
    "(5, [(3, [(2, []), (4, [])]), (6, [(7,[])])])\n",
    "```\n",
    "This method is very easy to create and parse recursively. It is based on the JSON data format. However, it may not be so easy for humans to read."
   ]
  },
  {
   "cell_type": "code",
   "execution_count": 4,
   "id": "bfc4b6b2",
   "metadata": {},
   "outputs": [],
   "source": [
    "def bracket_node(node):\n",
    "    s = f\"({node.value}, [{bracket_node(node.children[0])}\"\n",
    "    for i in range(1, len(node.children)):\n",
    "        s = s + f\", {bracket_node(child)}\"\n",
    "    s = s + \"])\"\n",
    "\n",
    "def bracket_tree(tree):\n",
    "    return bracket_node(tree.root)"
   ]
  },
  {
   "cell_type": "markdown",
   "id": "406518f1",
   "metadata": {},
   "source": [
    "Here is another approach for creating a human-readable depiction of a tree. It is based on the method for printing file systems in linux. The tree:\n",
    "```\n",
    "    5\n",
    "   / \\\n",
    "  3   6\n",
    " / \\   \\\n",
    "2   4   7\n",
    "```\n",
    "would be represented by:\n",
    "```\n",
    "[5]  \n",
    " ├── [6]  \n",
    " │    ├── [7]  \n",
    " │    └── None  \n",
    " └── [3]  \n",
    "      ├── [4]  \n",
    "      │    ├── None  \n",
    "      │    └── None  \n",
    "      └── [2]   \n",
    "           ├── None\n",
    "           └── None  \n",
    "```"
   ]
  },
  {
   "cell_type": "code",
   "execution_count": 6,
   "id": "2fa04ff7",
   "metadata": {},
   "outputs": [],
   "source": [
    "def pretty_node(node, buffer, prefix, children_prefix):\n",
    "    buffer = buffer + prefix\n",
    "    buffer = buffer + f\"[{node.value}]\\n\"\n",
    "    for i in range(len() - 1):\n",
    "        buffer = pretty_bst_branch(node.children[i], buffer, children_prefix + \"├── \", children_prefix + \"│    \")\n",
    "    final_index = len(node.children) - 1\n",
    "    buffer = pretty_bst_branch(node.children[final_index], buffer, children_prefix + \"└── \", children_prefix + \"     \")\n",
    "    \n",
    "    return buffer        \n",
    "    \n",
    "def pretty_tree(tree):\n",
    "    return pretty_bst_branch(tree.root, \"\", \"\", \" \")"
   ]
  },
  {
   "cell_type": "markdown",
   "id": "dcfc7b37",
   "metadata": {},
   "source": [
    "## Insert"
   ]
  },
  {
   "cell_type": "code",
   "execution_count": null,
   "id": "ef1ad810",
   "metadata": {},
   "outputs": [],
   "source": [
    "def insert(tree, path, value):\n",
    "    \n",
    "    # if the path points to the root, and the tree is empty then value becomes the new root node\n",
    "    if (len(path) == 0) and (tree.root is None):\n",
    "        tree.root = TreeNode(value, [])\n",
    "        return\n",
    "    \n",
    "    # if the path points to the root, and the root is nonempty, we replace the value\n",
    "    if len(path) == 0:\n",
    "        tree.root.value = value\n",
    "        return\n",
    "    \n",
    "    # otherwise, we iterate to the insertion point\n",
    "    prev_node = None\n",
    "    curr_node = tree.root\n",
    "    while len(path) > 0:\n",
    "        \n",
    "        index = path.pop(0)\n",
    "        \n",
    "        # index cannot be negative\n",
    "        if index < 0:\n",
    "            raise Exception(\"Path cannot contain a negative index\")\n",
    "            \n",
    "        # if the current node is null then we have reached a dead end\n",
    "        if curr_node is None:\n",
    "            raise Exception(\"Path does not exist in the tree\")\n",
    "            \n",
    "        # otherwise, iterate to the next node in the path \n",
    "        prev_node = curr_node\n",
    "        \n",
    "        #\n",
    "        if index < len(curr_node.children):\n",
    "            curr_node = curr_node.children[index]\n",
    "        elif index == len(curr_node.children):\n",
    "            \n",
    "            \n",
    "        \n",
    "        curr_node \n",
    "        "
   ]
  },
  {
   "cell_type": "markdown",
   "id": "d51f73d6",
   "metadata": {},
   "source": [
    "## Search"
   ]
  },
  {
   "cell_type": "markdown",
   "id": "d4d19d43",
   "metadata": {},
   "source": [
    "## Access"
   ]
  },
  {
   "cell_type": "markdown",
   "id": "e0c7721e",
   "metadata": {},
   "source": [
    "## Delete\n",
    "\n"
   ]
  },
  {
   "cell_type": "code",
   "execution_count": null,
   "id": "e3386ff6",
   "metadata": {},
   "outputs": [],
   "source": []
  }
 ],
 "metadata": {
  "kernelspec": {
   "display_name": "Python 3 (ipykernel)",
   "language": "python",
   "name": "python3"
  },
  "language_info": {
   "codemirror_mode": {
    "name": "ipython",
    "version": 3
   },
   "file_extension": ".py",
   "mimetype": "text/x-python",
   "name": "python",
   "nbconvert_exporter": "python",
   "pygments_lexer": "ipython3",
   "version": "3.9.7"
  }
 },
 "nbformat": 4,
 "nbformat_minor": 5
}
