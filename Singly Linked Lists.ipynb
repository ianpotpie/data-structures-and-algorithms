{
 "cells": [
  {
   "cell_type": "markdown",
   "id": "5476efdc",
   "metadata": {},
   "source": [
    "# Singly Linked List"
   ]
  },
  {
   "cell_type": "code",
   "execution_count": 28,
   "id": "bf9f766a",
   "metadata": {},
   "outputs": [],
   "source": [
    "class Node:\n",
    "    def __init__(self, value, next_node):\n",
    "        self.value = value\n",
    "        self.next_node = next_node\n",
    "\n",
    "class SinglyLinkedList:\n",
    "    def __init__(self, head):\n",
    "        self.head = head"
   ]
  },
  {
   "cell_type": "code",
   "execution_count": 29,
   "id": "aed7ec76",
   "metadata": {},
   "outputs": [],
   "source": [
    "def pretty_sll(linked_list):\n",
    "    s = \"HEAD\"\n",
    "    curr_node = linked_list.head\n",
    "    while curr_node is not None:\n",
    "        s = s + f\" -> [{curr_node.value}]\"\n",
    "        curr_node = curr_node.next_node\n",
    "    s = s + \" -> None\"\n",
    "    return s"
   ]
  },
  {
   "cell_type": "code",
   "execution_count": 30,
   "id": "c99c50de",
   "metadata": {},
   "outputs": [],
   "source": [
    "def insert(linked_list, index, value):\n",
    "    \n",
    "    # index cannot be negative\n",
    "    if index < 0:\n",
    "        raise Exception(\"Index cannot be negative.\")\n",
    "    \n",
    "    # if the index is zero, then the head of hte list needs to be replaced\n",
    "    if index == 0:\n",
    "        old_head = linked_list.head\n",
    "        linked_list.head = Node(value, old_head)\n",
    "    \n",
    "    # otherwise, we iterate to the insertion index\n",
    "    else:\n",
    "        prev_node = None\n",
    "        curr_index = 0\n",
    "        curr_node = linked_list.head\n",
    "        while curr_index < index:\n",
    "            \n",
    "            # if the current node is None, then we have reached the end of the list\n",
    "            if curr_node is None:\n",
    "                raise Exception(\"Index is not in the list.\")\n",
    "            \n",
    "            # otherwise, iterate to the next node\n",
    "            else:\n",
    "                curr_index += 1\n",
    "                prev_node = curr_node\n",
    "                curr_node = curr_node.next_node\n",
    "        \n",
    "        # insert the new node\n",
    "        prev.next_node = Node(value, curr)    "
   ]
  },
  {
   "cell_type": "code",
   "execution_count": 31,
   "id": "a855455e",
   "metadata": {},
   "outputs": [],
   "source": [
    "def push(linked_list, value):\n",
    "    \n",
    "    # pushing to the list is the same as inserting to the first index\n",
    "    insert(linked_list, 0, value)"
   ]
  },
  {
   "cell_type": "code",
   "execution_count": 32,
   "id": "76bc1293",
   "metadata": {},
   "outputs": [],
   "source": [
    "def append(linked_list, value):\n",
    "    \n",
    "    # if the list is empty, then we create a new head\n",
    "    if linked_list.head is None:\n",
    "        linked_list.head = Node(value, None)\n",
    "    \n",
    "    # otherwise, we iterate to the end of the list and insert there\n",
    "    else:\n",
    "        prev_node = None\n",
    "        curr_node = linked_list.head\n",
    "        while curr_node is not None:\n",
    "            prev_node = curr_node\n",
    "            curr_node = curr_node.next_node\n",
    "        \n",
    "        prev_node.next_node = Node(value, None)"
   ]
  },
  {
   "cell_type": "code",
   "execution_count": 33,
   "id": "915c7587",
   "metadata": {},
   "outputs": [
    {
     "name": "stdout",
     "output_type": "stream",
     "text": [
      "HEAD -> None\n"
     ]
    }
   ],
   "source": [
    "empty_list = SinglyLinkedList(None)\n",
    "\n",
    "print(pretty_sll(empty_list))"
   ]
  },
  {
   "cell_type": "code",
   "execution_count": 34,
   "id": "c83379bc",
   "metadata": {},
   "outputs": [
    {
     "name": "stdout",
     "output_type": "stream",
     "text": [
      "HEAD -> [4] -> [3] -> [2] -> [1] -> [0] -> None\n"
     ]
    }
   ],
   "source": [
    "push_list = SinglyLinkedList(None)\n",
    "\n",
    "for i in range(5):\n",
    "    push(push_list, i)\n",
    "\n",
    "print(pretty_sll(push_list))"
   ]
  },
  {
   "cell_type": "code",
   "execution_count": 35,
   "id": "c9deae38",
   "metadata": {},
   "outputs": [
    {
     "name": "stdout",
     "output_type": "stream",
     "text": [
      "HEAD -> [0] -> [1] -> [2] -> [3] -> [4] -> None\n"
     ]
    }
   ],
   "source": [
    "append_list = SinglyLinkedList(None)\n",
    "\n",
    "for i in range(5):\n",
    "    append(append_list, i)\n",
    "\n",
    "print(pretty_sll(append_list))"
   ]
  },
  {
   "cell_type": "code",
   "execution_count": 9,
   "id": "ee5ea3c1",
   "metadata": {},
   "outputs": [],
   "source": [
    "def search(linked_list, value):\n",
    "    \n",
    "    # initialize the index and the current node\n",
    "    index = 0\n",
    "    curr = linked_list.head\n",
    "    \n",
    "    # iterate through the nodesto find matching values\n",
    "    while curr.value != value:\n",
    "        index += 1\n",
    "        \n",
    "        # if the current node is None then we have reached the end of the list\n",
    "        if curr is None:\n",
    "            return None\n",
    "        else:\n",
    "            curr = curr.next_node\n",
    "    \n",
    "    return index"
   ]
  },
  {
   "cell_type": "code",
   "execution_count": 10,
   "id": "a06e19d5",
   "metadata": {},
   "outputs": [],
   "source": [
    "def access(linked_list, index):\n",
    "    \n",
    "    # cannot access fom an empty list\n",
    "    if linked_list.head is None:\n",
    "        raise Exception(\"Cannot access from an empty list.\")\n",
    "    \n",
    "    # index cannot be negative\n",
    "    if index < 0:\n",
    "        raise Exception(\"Index cannot be negative.\")\n",
    "    \n",
    "    # initialize the index and the current node\n",
    "    curr_index = 0\n",
    "    curr_node = linked_list.head\n",
    "    \n",
    "    # iterate to find the node of interest\n",
    "    while curr_index < index:\n",
    "        curr_index += 1\n",
    "        curr_node = curr_node.next_node\n",
    "\n",
    "        # if the current node is none, then we have reached the end of the list\n",
    "        if curr_node is None:\n",
    "            raise Exception(\"Index is not in the list.\")\n",
    "        \n",
    "    return curr_node.value"
   ]
  },
  {
   "cell_type": "code",
   "execution_count": 11,
   "id": "c236dbd8",
   "metadata": {},
   "outputs": [],
   "source": [
    "def delete(linked_list, index):\n",
    "    \n",
    "    # cannot delete from an empty list\n",
    "    if linked_list.head is None:\n",
    "        raise Exception(\"Cannot delete from an empty list.\")\n",
    "    \n",
    "    # the index cannot be negative\n",
    "    if index < 0:\n",
    "        raise Exception(\"Index cannot be negative.\")\n",
    "        \n",
    "    # if the index is zero then we replace the head of the list\n",
    "    if index == 0:\n",
    "        linked_list.head = linked_list.head.next_node\n",
    "    \n",
    "    # otherwise we iterate to the node to be deleted\n",
    "    else:\n",
    "        prev_node = None\n",
    "        curr_index = 0\n",
    "        curr_node = linked_list.head\n",
    "        \n",
    "        while curr_index < index:\n",
    "            prev_node = curr_node\n",
    "            curr_index += 1\n",
    "            curr_node = curr_node.next_node\n",
    "            \n",
    "            # if the current node is none, then we have reached the ned of the list\n",
    "            if curr_node is None:\n",
    "                raise Exception(\"Index is not in the list\")\n",
    "                \n",
    "        prev_node.next_node = curr_node.next_node"
   ]
  },
  {
   "cell_type": "code",
   "execution_count": null,
   "id": "764a2695",
   "metadata": {},
   "outputs": [],
   "source": []
  }
 ],
 "metadata": {
  "kernelspec": {
   "display_name": "Python 3 (ipykernel)",
   "language": "python",
   "name": "python3"
  },
  "language_info": {
   "codemirror_mode": {
    "name": "ipython",
    "version": 3
   },
   "file_extension": ".py",
   "mimetype": "text/x-python",
   "name": "python",
   "nbconvert_exporter": "python",
   "pygments_lexer": "ipython3",
   "version": "3.9.7"
  }
 },
 "nbformat": 4,
 "nbformat_minor": 5
}
