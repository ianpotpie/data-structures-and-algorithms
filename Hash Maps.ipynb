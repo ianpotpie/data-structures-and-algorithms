{
 "cells": [
  {
   "cell_type": "markdown",
   "id": "6e3febf8",
   "metadata": {},
   "source": [
    "# Hash Maps"
   ]
  },
  {
   "cell_type": "code",
   "execution_count": 3,
   "id": "33fa7dec",
   "metadata": {},
   "outputs": [],
   "source": [
    "import collections\n",
    "\n",
    "class HashMap:\n",
    "    def __init__(self, n_buckets: int):\n",
    "        self.buckets = [[] for _ in range(n_buckets)]"
   ]
  },
  {
   "cell_type": "code",
   "execution_count": 4,
   "id": "cbbb7f68",
   "metadata": {},
   "outputs": [
    {
     "name": "stdout",
     "output_type": "stream",
     "text": [
      "8753747738519\n"
     ]
    }
   ],
   "source": [
    "def insert(hash_map, key, value):\n",
    "    n_buckets = len(hash_map.buckets)\n",
    "    bucket_index = hash(key) % n_buckets\n",
    "    bucket = hash_map.buckets[bucket_index] \n",
    "    for i, pair in enumerate(bucket):"
   ]
  },
  {
   "cell_type": "code",
   "execution_count": null,
   "id": "90c54ce2",
   "metadata": {},
   "outputs": [],
   "source": []
  }
 ],
 "metadata": {
  "kernelspec": {
   "display_name": "Python 3 (ipykernel)",
   "language": "python",
   "name": "python3"
  },
  "language_info": {
   "codemirror_mode": {
    "name": "ipython",
    "version": 3
   },
   "file_extension": ".py",
   "mimetype": "text/x-python",
   "name": "python",
   "nbconvert_exporter": "python",
   "pygments_lexer": "ipython3",
   "version": "3.9.7"
  }
 },
 "nbformat": 4,
 "nbformat_minor": 5
}
